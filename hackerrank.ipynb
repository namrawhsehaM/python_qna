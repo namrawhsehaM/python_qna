{
 "cells": [
  {
   "cell_type": "markdown",
   "id": "bf9ba139",
   "metadata": {},
   "source": [
    "Consider a list (list = []). You can perform the following commands: <br>\n",
    "\n",
    "1. insert i e: Insert integer e at position i. <br>\n",
    "2. print: Print the list.<br>\n",
    "3. remove e: Delete the first occurrence of integer e.<br>\n",
    "4. append e: Insert integer e at the end of the list.<br>\n",
    "5. sort: Sort the list.<br>\n",
    "6. pop: Pop the last element from the list.<br>\n",
    "7. reverse: Reverse the list.<br>\n",
    "\n",
    "Initialize your list and read in the value of n followed by n lines of commands where each command will be of the 7 types listed above. Iterate through each command in order and perform the corresponding operation on your list. <br>\n",
    "\n",
    "\n",
    "Example<br>\n",
    "\n",
    "N = 4<br>\n",
    "append 1<br>\n",
    "append 2<br>\n",
    "insert 1 3<br>\n",
    "print<br>\n",
    "\n",
    "-> append 1: Append 1 to the list, arr = [1]<br>\n",
    "-> append 2: Append 2 to the list, arr = [1,2]<br>\n",
    "-> insert 1 3: Insert 3 at index 1, arr = [1,3,2]<br>\n",
    "-> print: print the array.<br>\n",
    "\n",
    "Output:<br>\n",
    "[1,3,2]<br>\n",
    "\n",
    "Input format<br>\n",
    "The first line contains an integer, n, denoting the number of commands.<br>\n",
    "Each line i of the n subsequent lines contains one of the commands described above.<br>\n",
    "\n",
    "Constraints<br>\n",
    "The elements added to the list must be integers.<br>\n",
    "\n",
    "Output Format<br>\n",
    "For each command of type print, print the list on a new line.<br>"
   ]
  },
  {
   "cell_type": "code",
   "execution_count": null,
   "id": "c5b615fd",
   "metadata": {},
   "outputs": [
    {
     "name": "stdout",
     "output_type": "stream",
     "text": [
      "[1, 3, 2]\n"
     ]
    }
   ],
   "source": [
    "# My solution\n",
    "\n",
    "N = int(input())\n",
    "limit = 1\n",
    "arr = []\n",
    "while limit <= N:\n",
    "    command = list(str(input()).split(\" \"))\n",
    "    if \"insert\" in command:\n",
    "        arr.insert(int(command[1]), int(command[2]))\n",
    "        command = []\n",
    "    elif \"print\" in command:\n",
    "        print(arr)\n",
    "        command = []\n",
    "    elif \"remove\" in command:\n",
    "        arr.remove(int(command[1]))\n",
    "        command = []\n",
    "    elif \"append\" in command:\n",
    "        arr.append(int(command[1]))\n",
    "        command = []\n",
    "    elif \"sort\" in command:\n",
    "        arr.sort()\n",
    "        command = []\n",
    "    elif \"pop\" in command:\n",
    "        arr.pop()\n",
    "        command = []\n",
    "    elif \"reverse\" in command:\n",
    "        arr.reverse()\n",
    "        command = []\n",
    "    else:\n",
    "        continue\n",
    "    limit = limit + 1"
   ]
  },
  {
   "cell_type": "code",
   "execution_count": 1,
   "id": "28b54cd2",
   "metadata": {},
   "outputs": [
    {
     "name": "stdout",
     "output_type": "stream",
     "text": [
      "[1, 3, 2]\n"
     ]
    }
   ],
   "source": [
    "# ChatGPT solution\n",
    "\n",
    "N = int(input())\n",
    "arr = []\n",
    "\n",
    "for _ in range(N):\n",
    "    cmd = input().split()\n",
    "    action = cmd[0]\n",
    "    \n",
    "    if action == \"insert\":\n",
    "        arr.insert(int(cmd[1]), int(cmd[2]))\n",
    "    elif action == \"print\":\n",
    "        print(arr)\n",
    "    elif action == \"remove\":\n",
    "        arr.remove(int(cmd[1]))\n",
    "    elif action == \"append\":\n",
    "        arr.append(int(cmd[1]))\n",
    "    elif action == \"sort\":\n",
    "        arr.sort()\n",
    "    elif action == \"pop\":\n",
    "        arr.pop()\n",
    "    elif action == \"reverse\":\n",
    "        arr.reverse()\n"
   ]
  },
  {
   "cell_type": "markdown",
   "id": "6e396a43",
   "metadata": {},
   "source": [
    "Given the names and grades for each student in a class of N students, store them in a nested list and print the name(s) of any student(s) having the second lowest grade.<br>\n",
    "\n",
    "Note: If there are multiple students with the second lowest grade, order their names alphabetically and print each name on a new line.<br>\n",
    "\n",
    "Example<br>\n",
    "\n",
    "records = [[\"chi\", 20.0],[\"beta\", 50.0],[\"alpha\", 50.0]]<br>\n",
    "\n",
    "The ordered list of scores is [20.0, 50.0], so the second lowest score is 50.0. There are two students with that score: [\"beta\",\"alpha\"] . Ordered alphabetically, the names are printed as:<br>\n",
    "\n",
    "alpha<br>\n",
    "beta<br>\n",
    "\n",
    "Input Format<br>\n",
    "\n",
    "The first line contains an integer, N, the number of students.<br>\n",
    "The 2N subsequent lines describe each student over 2 lines.<br>\n",
    "- The first line contains a student's name.<br>\n",
    "- The second line contains their grade.<br>\n",
    "\n",
    "Constraints<br>\n",
    "-> 2 <= N <= 5<br>\n",
    "-> There will always be one or more students having the second lowest grade<br>\n",
    "\n",
    "Output format<br>\n",
    "\n",
    "Print the name(s) of any student(s) having the second lowest grade in. If there are multiple students, order their names alphabetically and print each one on a new line.<br>\n",
    "\n",
    "Sample Input 0<br>\n",
    "\n",
    "5<br>\n",
    "Harry<br>\n",
    "37.21<br>\n",
    "Berry<br>\n",
    "37.21<br>\n",
    "Tina<br>\n",
    "37.2<br>\n",
    "Akriti<br>\n",
    "41<br>\n",
    "Harsh<br>\n",
    "39<br>\n",
    "\n",
    "Sample Output 0<br>\n",
    "\n",
    "Berry<br>\n",
    "Harry<br>\n",
    "\n",
    "Explanation 0<br>\n",
    "\n",
    "There are 5 students in this class whose names and grades are assembled to build the following list:<br>\n",
    "\n",
    "python students = [['Harry', 37.21], ['Berry', 37.21], ['Tina', 37.2], ['Akriti', 41], ['Harsh', 39]]<br>\n",
    "\n",
    "The lowest grade of 37.2 belongs to Tina. The second lowest grade of 37.21 belongs to both Harry and Berry, so we order their names alphabetically and print each name on a new line.<br>"
   ]
  },
  {
   "cell_type": "code",
   "execution_count": null,
   "id": "8ed01f7e",
   "metadata": {},
   "outputs": [],
   "source": [
    "# My solution\n",
    "\n",
    "name_and_score = []\n",
    "for _ in range(int(input())):\n",
    "    name = input()\n",
    "    score = float(input())\n",
    "    pair = [name, score]\n",
    "    name_and_score.append(pair)\n",
    "\n",
    "individual_scores = []\n",
    "for scores in name_and_score:\n",
    "    individual_scores.append(scores[:][1])\n",
    "    \n",
    "remove_dups = list(set(individual_scores)) # remove dups\n",
    "remove_dups.sort() # ascending order\n",
    "second_lowest_score = remove_dups[1]  # get second lowest score\n",
    "\n",
    "second_lowest_names = []\n",
    "for names in name_and_score:\n",
    "    if second_lowest_score in names:\n",
    "        second_lowest_names.append(names[:][0])\n",
    "        second_lowest_names.sort()\n",
    "\n",
    "for sorted_name in second_lowest_names:\n",
    "    print(sorted_name)"
   ]
  },
  {
   "cell_type": "code",
   "execution_count": null,
   "id": "49eb16da",
   "metadata": {},
   "outputs": [],
   "source": [
    "# ChatGPT solution\n",
    "\n",
    "# Step 1: Read input and build the list\n",
    "records = [[input(), float(input())] for _ in range(int(input()))]\n",
    "\n",
    "# Step 2: Extract unique scores and get the second lowest\n",
    "scores = sorted({score for _, score in records})\n",
    "second_lowest = scores[1]\n",
    "\n",
    "# Step 3: Get all names with second lowest score and sort them\n",
    "names = sorted([name for name, score in records if score == second_lowest])\n",
    "\n",
    "# Step 4: Print names\n",
    "for name in names:\n",
    "    print(name)\n"
   ]
  },
  {
   "cell_type": "markdown",
   "id": "dcfe07e3",
   "metadata": {},
   "source": [
    "Given the participants' score sheet for your University Sports Day, you are required to find the runner-up score. You are given  scores. Store them in a list and find the score of the runner-up.<br>\n",
    "\n",
    "Input Format<br>\n",
    "\n",
    "The first line contains n. The second line contains an array A[] of n integers each separated by a space.<br>\n",
    "\n",
    "Constraints<br>\n",
    "-> 2 <= n <= 10<br>\n",
    "-> -100 <= A[i] <= 100<br>\n",
    "\n",
    "Output Format<br>\n",
    "\n",
    "Print the runner-up score.<br>\n",
    "\n",
    "Sample Input 0<br>\n",
    "\n",
    "5<br>\n",
    "2 3 6 6 5<br>\n",
    "\n",
    "Sample Output 0<br>\n",
    "\n",
    "5<br>\n",
    "\n",
    "Explanation 0<br>\n",
    "\n",
    "Given list is [2,3,6,6,5]. The maximum score is 6, second maximum is 5. Hence, we print 5 as the runner-up score.<br>"
   ]
  },
  {
   "cell_type": "code",
   "execution_count": 3,
   "id": "68fed8c7",
   "metadata": {},
   "outputs": [
    {
     "name": "stdout",
     "output_type": "stream",
     "text": [
      "5\n"
     ]
    }
   ],
   "source": [
    "# My Solution\n",
    "\n",
    "n = int(input())\n",
    "arr = map(int, input().split())\n",
    "\n",
    "non_dup = []\n",
    "for n in arr:\n",
    "    if n not in non_dup:\n",
    "        non_dup.append(n)\n",
    "\n",
    "non_dup.sort()\n",
    "non_dup.pop()\n",
    "print(non_dup[-1])"
   ]
  },
  {
   "cell_type": "code",
   "execution_count": null,
   "id": "0b941008",
   "metadata": {},
   "outputs": [
    {
     "name": "stdout",
     "output_type": "stream",
     "text": [
      "5\n"
     ]
    }
   ],
   "source": [
    "# ChatGPT Solution\n",
    "\n",
    "_ = int(input())                     # count not actually needed after reading\n",
    "scores = set(map(int, input().split()))\n",
    "scores.remove(max(scores))           # drop top score\n",
    "print(max(scores))                   # runner‑up"
   ]
  },
  {
   "cell_type": "markdown",
   "id": "dc45ebd6",
   "metadata": {},
   "source": [
    "You are given a string and your task is to swap cases. In other words, convert all lowercase letters to uppercase letters and vice versa.  \n",
    "\n",
    "For Example:  \n",
    "\n",
    "Www.HackerRank.com → wWW.hACKERrANK.COM  \n",
    "Pythonist 2 → pYTHONIST 2    \n",
    "Function Description  \n",
    "\n",
    "Complete the swap_case function in the editor below.  \n",
    "\n",
    "swap_case has the following parameters:  \n",
    "\n",
    "-> string s: the string to modify  \n",
    "\n",
    "Returns  \n",
    "\n",
    "-> string: the modified string  \n",
    "\n",
    "Input Format  \n",
    "\n",
    "A single line containing a string .  \n",
    "  \n",
    "Constraints  \n",
    "\n",
    "0 < len(s) <= 1000  \n",
    "\n",
    "Sample Input 0  \n",
    "\n",
    "HackerRank.com presents \"Pythonist 2\".  \n",
    "\n",
    "Sample Output 0  \n",
    "\n",
    "hACKERrANK.COM PRESENTS \"pYTHONIST 2\".  "
   ]
  },
  {
   "cell_type": "code",
   "execution_count": null,
   "id": "0c6c58a7",
   "metadata": {},
   "outputs": [
    {
     "data": {
      "text/plain": [
       "'hACKERrANK.COM PRESENTS \"pYTHONIST 2\".'"
      ]
     },
     "execution_count": 13,
     "metadata": {},
     "output_type": "execute_result"
    }
   ],
   "source": [
    "# My solution\n",
    "\n",
    "sample = 'HackerRank.com presents \"Pythonist 2\".'\n",
    "\n",
    "def swap_case(sample):\n",
    "    new_letters = \"\"\n",
    "    for letters in sample:\n",
    "        if letters.islower() == True:\n",
    "            letters = letters.upper()\n",
    "        else:\n",
    "            letters = letters.lower()\n",
    "        new_letters += letters\n",
    "\n",
    "    return new_letters\n",
    "\n",
    "swap_case(sample) \n"
   ]
  },
  {
   "cell_type": "code",
   "execution_count": null,
   "id": "c18ecd2c",
   "metadata": {},
   "outputs": [],
   "source": [
    "# ChatGPt's Solution(s)\n",
    "\n",
    "# Using builtin-methods -> high prioritize in production code\n",
    "def swap_case(s: str) -> str:\n",
    "    return s.swapcase()\n",
    "\n",
    "# Using cleaner version of my solution\n",
    "def swap_case(s: str) -> str:\n",
    "    result = []\n",
    "    for ch in s:\n",
    "        result.append(ch.upper() if ch.islower() else ch.lower())\n",
    "    return \"\".join(result)\n",
    "\n",
    "# Using comprehension\n",
    "def swap_case(s: str) -> str:\n",
    "    return \"\".join(ch.upper() if ch.islower() else ch.lower() for ch in s)"
   ]
  }
 ],
 "metadata": {
  "kernelspec": {
   "display_name": "learn_python",
   "language": "python",
   "name": "python3"
  },
  "language_info": {
   "codemirror_mode": {
    "name": "ipython",
    "version": 3
   },
   "file_extension": ".py",
   "mimetype": "text/x-python",
   "name": "python",
   "nbconvert_exporter": "python",
   "pygments_lexer": "ipython3",
   "version": "3.10.16"
  }
 },
 "nbformat": 4,
 "nbformat_minor": 5
}
