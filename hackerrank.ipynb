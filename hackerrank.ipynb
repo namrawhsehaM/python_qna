{
 "cells": [
  {
   "cell_type": "markdown",
   "id": "bf9ba139",
   "metadata": {},
   "source": [
    "Consider a list (list = []). You can perform the following commands: <br>\n",
    "\n",
    "1. insert i e: Insert integer e at position i. <br>\n",
    "2. print: Print the list.<br>\n",
    "3. remove e: Delete the first occurrence of integer e.<br>\n",
    "4. append e: Insert integer e at the end of the list.<br>\n",
    "5. sort: Sort the list.<br>\n",
    "6. pop: Pop the last element from the list.<br>\n",
    "7. reverse: Reverse the list.<br>\n",
    "\n",
    "Initialize your list and read in the value of n followed by n lines of commands where each command will be of the 7 types listed above. Iterate through each command in order and perform the corresponding operation on your list. <br>\n",
    "\n",
    "\n",
    "Example<br>\n",
    "\n",
    "N = 4<br>\n",
    "append 1<br>\n",
    "append 2<br>\n",
    "insert 1 3<br>\n",
    "print<br>\n",
    "\n",
    "-> append 1: Append 1 to the list, arr = [1]<br>\n",
    "-> append 2: Append 2 to the list, arr = [1,2]<br>\n",
    "-> insert 1 3: Insert 3 at index 1, arr = [1,3,2]<br>\n",
    "-> print: print the array.<br>\n",
    "\n",
    "Output:<br>\n",
    "[1,3,2]<br>\n",
    "\n",
    "Input format<br>\n",
    "The first line contains an integer, n, denoting the number of commands.<br>\n",
    "Each line i of the n subsequent lines contains one of the commands described above.<br>\n",
    "\n",
    "Constraints<br>\n",
    "The elements added to the list must be integers.<br>\n",
    "\n",
    "Output Format<br>\n",
    "For each command of type print, print the list on a new line.<br>"
   ]
  },
  {
   "cell_type": "code",
   "execution_count": null,
   "id": "c5b615fd",
   "metadata": {},
   "outputs": [
    {
     "name": "stdout",
     "output_type": "stream",
     "text": [
      "[1, 3, 2]\n"
     ]
    }
   ],
   "source": [
    "# My solution\n",
    "\n",
    "N = int(input())\n",
    "limit = 1\n",
    "arr = []\n",
    "while limit <= N:\n",
    "    command = list(str(input()).split(\" \"))\n",
    "    if \"insert\" in command:\n",
    "        arr.insert(int(command[1]), int(command[2]))\n",
    "        command = []\n",
    "    elif \"print\" in command:\n",
    "        print(arr)\n",
    "        command = []\n",
    "    elif \"remove\" in command:\n",
    "        arr.remove(int(command[1]))\n",
    "        command = []\n",
    "    elif \"append\" in command:\n",
    "        arr.append(int(command[1]))\n",
    "        command = []\n",
    "    elif \"sort\" in command:\n",
    "        arr.sort()\n",
    "        command = []\n",
    "    elif \"pop\" in command:\n",
    "        arr.pop()\n",
    "        command = []\n",
    "    elif \"reverse\" in command:\n",
    "        arr.reverse()\n",
    "        command = []\n",
    "    else:\n",
    "        continue\n",
    "    limit = limit + 1"
   ]
  },
  {
   "cell_type": "code",
   "execution_count": 1,
   "id": "28b54cd2",
   "metadata": {},
   "outputs": [
    {
     "name": "stdout",
     "output_type": "stream",
     "text": [
      "[1, 3, 2]\n"
     ]
    }
   ],
   "source": [
    "# ChatGPT solution\n",
    "\n",
    "N = int(input())\n",
    "arr = []\n",
    "\n",
    "for _ in range(N):\n",
    "    cmd = input().split()\n",
    "    action = cmd[0]\n",
    "    \n",
    "    if action == \"insert\":\n",
    "        arr.insert(int(cmd[1]), int(cmd[2]))\n",
    "    elif action == \"print\":\n",
    "        print(arr)\n",
    "    elif action == \"remove\":\n",
    "        arr.remove(int(cmd[1]))\n",
    "    elif action == \"append\":\n",
    "        arr.append(int(cmd[1]))\n",
    "    elif action == \"sort\":\n",
    "        arr.sort()\n",
    "    elif action == \"pop\":\n",
    "        arr.pop()\n",
    "    elif action == \"reverse\":\n",
    "        arr.reverse()\n"
   ]
  }
 ],
 "metadata": {
  "kernelspec": {
   "display_name": "learn_python",
   "language": "python",
   "name": "python3"
  },
  "language_info": {
   "codemirror_mode": {
    "name": "ipython",
    "version": 3
   },
   "file_extension": ".py",
   "mimetype": "text/x-python",
   "name": "python",
   "nbconvert_exporter": "python",
   "pygments_lexer": "ipython3",
   "version": "3.10.16"
  }
 },
 "nbformat": 4,
 "nbformat_minor": 5
}
